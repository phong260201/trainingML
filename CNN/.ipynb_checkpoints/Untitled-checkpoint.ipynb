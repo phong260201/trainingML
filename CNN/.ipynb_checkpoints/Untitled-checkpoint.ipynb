{
 "cells": [
  {
   "cell_type": "code",
   "execution_count": null,
   "id": "d20681f3",
   "metadata": {},
   "outputs": [],
   "source": [
    "!pip install tensorflow\n",
    "import tensorflow as tf\n",
    "import numpy as np\n",
    "import pandas as pd\n",
    "import matplotlib.pyplot as plt\n",
    "\n",
    "tf.logging.set_verbosity(tf.logging.INFO)"
   ]
  },
  {
   "cell_type": "code",
   "execution_count": 5,
   "id": "4fb4f172",
   "metadata": {},
   "outputs": [],
   "source": [
    "def cnn_model_fn(features, labels, mode):\n",
    "    #input layer\n",
    "    input_layer = tf.reshape(features['x'], shape = [-1, 28, 28 ,1])\n",
    "    #convolution layer\n",
    "    conv1 = tf.layers.conv2d(\n",
    "    inputs = input_layer,\n",
    "        filters = 32,\n",
    "        kernel_size = [5,5],\n",
    "        padding = 'same',\n",
    "        activation = tf.nn.relu\n",
    "    )\n",
    "    #max pooling layer 1\n",
    "    pool1 = tf.layers.max_pooling2d(\n",
    "    inputs = conv1,\n",
    "        pool_size = [2,2],\n",
    "        strides = 2\n",
    "    )\n",
    "    #convolutin layer 2\n",
    "    conv2 = tf.layers.conv2d(\n",
    "    input = pool1,\n",
    "        filters = 64,\n",
    "        kernel_size= [5,5],\n",
    "        padding = 'same',\n",
    "        activation = tf.nn.relu\n",
    "    )\n",
    "    # max pooling 2\n",
    "    pool2 = tf.layers.max_pooling2d(\n",
    "    input = conv2,\n",
    "    pool_size = [2,2],\n",
    "    strides = 2\n",
    "    )\n",
    "    #dense layer\n",
    "    flat = tf.reshape(pool2,[-1,7*7*64])\n",
    "    dense = tf.layers.dense(\n",
    "        input = flat,\n",
    "        units = 1024,\n",
    "        activation = tf.nn.relu)\n",
    "    dropout = tf.layers.dropout(\n",
    "        inputs = dense,\n",
    "        rate = 0.4,\n",
    "        training = mode == tf.estimator.ModeKeys.TRAIN)\n",
    "    \n",
    "    #logits layer\n",
    "    logits = tf.layers.dense(inputs = dropout, units = 10)\n",
    "    \n",
    "    predictions = {\n",
    "        'classes': tf.argmax(input = logits, axis = 1, name = 'class_tensor'),\n",
    "        'probabilities': tf.nn.softmax(logits, name = 'softmax_tensor')}\n",
    "    \n",
    "    if mode == tf.estimator.ModeKeys.PREDICT:\n",
    "        return tf.estimator.EstimatorSpec(mode = mode, predictions = predictions)\n",
    "\n",
    "    loss = tf.losses.sparse_softmax_cross_entropy(labels = labels, logits = logits)\n",
    "    \n",
    "    if mode == tf.estimator.ModeKeys.TRAIN:\n",
    "        optimizer = tf.train.AdamOptimizer(learning_rate = 0.001)\n",
    "        train_op = optimizer.minimize(\n",
    "            loss = loss, \n",
    "            global_step = tf.train.get_global_step())\n",
    "        return tf.estimator.EstimatorSpec(mode = mode, loss = loss, train_op = train_op)\n",
    "    \n",
    "    if mode == tf.estimator.ModeKeys.EVAL:\n",
    "        eval_metric_ops = {\n",
    "            'accuracy': tf.metrics.accuracy(\n",
    "            labels = labels, predictions = predictions['classes'])}\n",
    "        return tf.estimator.EstimatorSpec(\n",
    "            mode = mode, loss = loss, eval_metric_ops = eval_metric_ops)\n",
    "    "
   ]
  },
  {
   "cell_type": "code",
   "execution_count": null,
   "id": "66e93cb5",
   "metadata": {},
   "outputs": [],
   "source": [
    "import sys\n",
    "!{sys.executable} -m pip install python-mnist\n",
    "\n",
    "from mnist import MNIST\n",
    "mndata = MNIST('../input')\n",
    "\n",
    "mndata.load_training()\n",
    "train_data = np.asarray(mndata.train_images)/255.0\n",
    "train_labels = np.array(mndata.train_labels.tolist())\n",
    "\n",
    "mndata.load_testing()\n",
    "test_data = np.asarray(mndata.test_images)/255.0\n",
    "test_labels = np.array(mndata.test_labels.tolist())\n",
    "\n",
    "print('Train images shape      : %s'%str(train_data.shape))\n",
    "print('Train labels shape shape: %s'%str(train_labels.shape))\n",
    "print('Test  images shape      : %s'%str(test_data.shape))\n",
    "print('Test  labels shape shape: %s'%str(test_labels.shape))"
   ]
  },
  {
   "cell_type": "code",
   "execution_count": 7,
   "id": "39574e80",
   "metadata": {},
   "outputs": [
    {
     "name": "stdout",
     "output_type": "stream",
     "text": [
      "INFO:tensorflow:Using default config.\n",
      "INFO:tensorflow:Using config: {'_model_dir': './tmp/conv2_checkpoints', '_tf_random_seed': None, '_save_summary_steps': 100, '_save_checkpoints_steps': None, '_save_checkpoints_secs': 600, '_session_config': allow_soft_placement: true\n",
      "graph_options {\n",
      "  rewrite_options {\n",
      "    meta_optimizer_iterations: ONE\n",
      "  }\n",
      "}\n",
      ", '_keep_checkpoint_max': 5, '_keep_checkpoint_every_n_hours': 10000, '_log_step_count_steps': 100, '_train_distribute': None, '_device_fn': None, '_protocol': None, '_eval_distribute': None, '_experimental_distribute': None, '_experimental_max_worker_delay_secs': None, '_session_creation_timeout_secs': 7200, '_checkpoint_save_graph_def': True, '_service': None, '_cluster_spec': ClusterSpec({}), '_task_type': 'worker', '_task_id': 0, '_global_id_in_cluster': 0, '_master': '', '_evaluation_master': '', '_is_chief': True, '_num_ps_replicas': 0, '_num_worker_replicas': 1}\n"
     ]
    }
   ],
   "source": [
    "#Create the Estimator\n",
    "mnist_classifier = tf.estimator.Estimator(\n",
    "    model_fn = cnn_model_fn, \n",
    "    model_dir = './tmp/conv2_checkpoints' #temporary file to save model\n",
    ")\n"
   ]
  },
  {
   "cell_type": "code",
   "execution_count": 11,
   "id": "2484fccb",
   "metadata": {},
   "outputs": [
    {
     "ename": "AttributeError",
     "evalue": "module 'tensorflow_estimator.python.estimator.api._v2.estimator' has no attribute 'inputs'",
     "output_type": "error",
     "traceback": [
      "\u001b[1;31m---------------------------------------------------------------------------\u001b[0m",
      "\u001b[1;31mAttributeError\u001b[0m                            Traceback (most recent call last)",
      "\u001b[1;32m<ipython-input-11-ab920f5ad325>\u001b[0m in \u001b[0;36m<module>\u001b[1;34m\u001b[0m\n\u001b[0;32m      1\u001b[0m \u001b[1;31m#Training model\u001b[0m\u001b[1;33m\u001b[0m\u001b[1;33m\u001b[0m\u001b[1;33m\u001b[0m\u001b[0m\n\u001b[1;32m----> 2\u001b[1;33m train_input_fn = tf.estimator.inputs.numpy_input_fn(\n\u001b[0m\u001b[0;32m      3\u001b[0m     \u001b[0mx\u001b[0m \u001b[1;33m=\u001b[0m \u001b[1;33m{\u001b[0m\u001b[1;34m'x'\u001b[0m\u001b[1;33m:\u001b[0m \u001b[0mtrain_data\u001b[0m\u001b[1;33m}\u001b[0m\u001b[1;33m,\u001b[0m\u001b[1;33m\u001b[0m\u001b[1;33m\u001b[0m\u001b[0m\n\u001b[0;32m      4\u001b[0m     \u001b[0my\u001b[0m \u001b[1;33m=\u001b[0m \u001b[0mtrain_labels\u001b[0m\u001b[1;33m,\u001b[0m\u001b[1;33m\u001b[0m\u001b[1;33m\u001b[0m\u001b[0m\n\u001b[0;32m      5\u001b[0m     \u001b[0mbatch_size\u001b[0m \u001b[1;33m=\u001b[0m \u001b[1;36m100\u001b[0m\u001b[1;33m,\u001b[0m\u001b[1;33m\u001b[0m\u001b[1;33m\u001b[0m\u001b[0m\n",
      "\u001b[1;31mAttributeError\u001b[0m: module 'tensorflow_estimator.python.estimator.api._v2.estimator' has no attribute 'inputs'"
     ]
    }
   ],
   "source": [
    "#Training model\n",
    "train_input_fn = tf.estimator.inputs.numpy_input_fn(\n",
    "    x = {'x': train_data},\n",
    "    y = train_labels, \n",
    "    batch_size = 100,\n",
    "    num_epochs = 50,\n",
    "    shuffle = True\n",
    ")\n"
   ]
  },
  {
   "cell_type": "code",
   "execution_count": null,
   "id": "4f61b5d9",
   "metadata": {},
   "outputs": [],
   "source": []
  },
  {
   "cell_type": "code",
   "execution_count": null,
   "id": "d6034d30",
   "metadata": {},
   "outputs": [],
   "source": []
  }
 ],
 "metadata": {
  "kernelspec": {
   "display_name": "Python 3",
   "language": "python",
   "name": "python3"
  },
  "language_info": {
   "codemirror_mode": {
    "name": "ipython",
    "version": 3
   },
   "file_extension": ".py",
   "mimetype": "text/x-python",
   "name": "python",
   "nbconvert_exporter": "python",
   "pygments_lexer": "ipython3",
   "version": "3.8.8"
  }
 },
 "nbformat": 4,
 "nbformat_minor": 5
}
